{
 "cells": [
  {
   "cell_type": "markdown",
   "id": "01c37cd3",
   "metadata": {},
   "source": [
    "File for trying out models on SocialIQA"
   ]
  },
  {
   "cell_type": "code",
   "execution_count": 2,
   "id": "6aab7d44",
   "metadata": {},
   "outputs": [],
   "source": [
    "# reminder: make sure to download python 3.8.5 later and download transformers and torch"
   ]
  },
  {
   "cell_type": "code",
   "execution_count": null,
   "id": "78b296fb",
   "metadata": {},
   "outputs": [],
   "source": []
  }
 ],
 "metadata": {
  "kernelspec": {
   "display_name": "Python 3",
   "language": "python",
   "name": "python3"
  },
  "language_info": {
   "codemirror_mode": {
    "name": "ipython",
    "version": 3
   },
   "file_extension": ".py",
   "mimetype": "text/x-python",
   "name": "python",
   "nbconvert_exporter": "python",
   "pygments_lexer": "ipython3",
   "version": "3.9.2"
  }
 },
 "nbformat": 4,
 "nbformat_minor": 5
}
